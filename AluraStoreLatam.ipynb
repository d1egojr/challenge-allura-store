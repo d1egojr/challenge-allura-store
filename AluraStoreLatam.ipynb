{
  "nbformat": 4,
  "nbformat_minor": 0,
  "metadata": {
    "colab": {
      "provenance": [],
      "include_colab_link": true
    },
    "kernelspec": {
      "name": "python3",
      "display_name": "Python 3"
    },
    "language_info": {
      "name": "python"
    }
  },
  "cells": [
    {
      "cell_type": "markdown",
      "metadata": {
        "id": "view-in-github",
        "colab_type": "text"
      },
      "source": [
        "<a href=\"https://colab.research.google.com/github/d1egojr/challenge-allura-store/blob/main/AluraStoreLatam.ipynb\" target=\"_parent\"><img src=\"https://colab.research.google.com/assets/colab-badge.svg\" alt=\"Open In Colab\"/></a>"
      ]
    },
    {
      "cell_type": "markdown",
      "source": [
        "### Importación de datos\n",
        "\n"
      ],
      "metadata": {
        "id": "RhEdWd9YUR6H"
      }
    },
    {
      "cell_type": "code",
      "execution_count": null,
      "metadata": {
        "colab": {
          "base_uri": "https://localhost:8080/",
          "height": 310
        },
        "id": "T3EvaeQ_INIL",
        "outputId": "2fb07223-2fb5-4b13-fcdc-c5330796dcb8"
      },
      "outputs": [
        {
          "output_type": "execute_result",
          "data": {
            "text/plain": [
              "            Producto Categoría del Producto    Precio  Costo de envío  \\\n",
              "0  Asistente virtual           Electrónicos  164300.0          6900.0   \n",
              "1    Mesa de comedor                Muebles  192300.0          8400.0   \n",
              "2      Juego de mesa               Juguetes  209600.0         15900.0   \n",
              "3         Microondas      Electrodomésticos  757500.0         41000.0   \n",
              "4   Silla de oficina                Muebles  335200.0         20200.0   \n",
              "\n",
              "  Fecha de Compra         Vendedor Lugar de Compra  Calificación  \\\n",
              "0      16/01/2021      Pedro Gomez          Bogotá             4   \n",
              "1      18/05/2022  Beatriz Morales        Medellín             1   \n",
              "2      15/03/2021   Juan Fernandez       Cartagena             1   \n",
              "3      03/05/2022   Juan Fernandez            Cali             4   \n",
              "4      07/11/2020    Maria Alfonso        Medellín             5   \n",
              "\n",
              "       Método de pago  Cantidad de cuotas       lat       lon  \n",
              "0  Tarjeta de crédito                   8   4.60971 -74.08175  \n",
              "1  Tarjeta de crédito                   4   6.25184 -75.56359  \n",
              "2  Tarjeta de crédito                   1  10.39972 -75.51444  \n",
              "3               Nequi                   1   3.43722 -76.52250  \n",
              "4               Nequi                   1   6.25184 -75.56359  "
            ],
            "text/html": [
              "\n",
              "  <div id=\"df-e25b34da-e507-4306-aa1a-04a5ebc80c2b\" class=\"colab-df-container\">\n",
              "    <div>\n",
              "<style scoped>\n",
              "    .dataframe tbody tr th:only-of-type {\n",
              "        vertical-align: middle;\n",
              "    }\n",
              "\n",
              "    .dataframe tbody tr th {\n",
              "        vertical-align: top;\n",
              "    }\n",
              "\n",
              "    .dataframe thead th {\n",
              "        text-align: right;\n",
              "    }\n",
              "</style>\n",
              "<table border=\"1\" class=\"dataframe\">\n",
              "  <thead>\n",
              "    <tr style=\"text-align: right;\">\n",
              "      <th></th>\n",
              "      <th>Producto</th>\n",
              "      <th>Categoría del Producto</th>\n",
              "      <th>Precio</th>\n",
              "      <th>Costo de envío</th>\n",
              "      <th>Fecha de Compra</th>\n",
              "      <th>Vendedor</th>\n",
              "      <th>Lugar de Compra</th>\n",
              "      <th>Calificación</th>\n",
              "      <th>Método de pago</th>\n",
              "      <th>Cantidad de cuotas</th>\n",
              "      <th>lat</th>\n",
              "      <th>lon</th>\n",
              "    </tr>\n",
              "  </thead>\n",
              "  <tbody>\n",
              "    <tr>\n",
              "      <th>0</th>\n",
              "      <td>Asistente virtual</td>\n",
              "      <td>Electrónicos</td>\n",
              "      <td>164300.0</td>\n",
              "      <td>6900.0</td>\n",
              "      <td>16/01/2021</td>\n",
              "      <td>Pedro Gomez</td>\n",
              "      <td>Bogotá</td>\n",
              "      <td>4</td>\n",
              "      <td>Tarjeta de crédito</td>\n",
              "      <td>8</td>\n",
              "      <td>4.60971</td>\n",
              "      <td>-74.08175</td>\n",
              "    </tr>\n",
              "    <tr>\n",
              "      <th>1</th>\n",
              "      <td>Mesa de comedor</td>\n",
              "      <td>Muebles</td>\n",
              "      <td>192300.0</td>\n",
              "      <td>8400.0</td>\n",
              "      <td>18/05/2022</td>\n",
              "      <td>Beatriz Morales</td>\n",
              "      <td>Medellín</td>\n",
              "      <td>1</td>\n",
              "      <td>Tarjeta de crédito</td>\n",
              "      <td>4</td>\n",
              "      <td>6.25184</td>\n",
              "      <td>-75.56359</td>\n",
              "    </tr>\n",
              "    <tr>\n",
              "      <th>2</th>\n",
              "      <td>Juego de mesa</td>\n",
              "      <td>Juguetes</td>\n",
              "      <td>209600.0</td>\n",
              "      <td>15900.0</td>\n",
              "      <td>15/03/2021</td>\n",
              "      <td>Juan Fernandez</td>\n",
              "      <td>Cartagena</td>\n",
              "      <td>1</td>\n",
              "      <td>Tarjeta de crédito</td>\n",
              "      <td>1</td>\n",
              "      <td>10.39972</td>\n",
              "      <td>-75.51444</td>\n",
              "    </tr>\n",
              "    <tr>\n",
              "      <th>3</th>\n",
              "      <td>Microondas</td>\n",
              "      <td>Electrodomésticos</td>\n",
              "      <td>757500.0</td>\n",
              "      <td>41000.0</td>\n",
              "      <td>03/05/2022</td>\n",
              "      <td>Juan Fernandez</td>\n",
              "      <td>Cali</td>\n",
              "      <td>4</td>\n",
              "      <td>Nequi</td>\n",
              "      <td>1</td>\n",
              "      <td>3.43722</td>\n",
              "      <td>-76.52250</td>\n",
              "    </tr>\n",
              "    <tr>\n",
              "      <th>4</th>\n",
              "      <td>Silla de oficina</td>\n",
              "      <td>Muebles</td>\n",
              "      <td>335200.0</td>\n",
              "      <td>20200.0</td>\n",
              "      <td>07/11/2020</td>\n",
              "      <td>Maria Alfonso</td>\n",
              "      <td>Medellín</td>\n",
              "      <td>5</td>\n",
              "      <td>Nequi</td>\n",
              "      <td>1</td>\n",
              "      <td>6.25184</td>\n",
              "      <td>-75.56359</td>\n",
              "    </tr>\n",
              "  </tbody>\n",
              "</table>\n",
              "</div>\n",
              "    <div class=\"colab-df-buttons\">\n",
              "\n",
              "  <div class=\"colab-df-container\">\n",
              "    <button class=\"colab-df-convert\" onclick=\"convertToInteractive('df-e25b34da-e507-4306-aa1a-04a5ebc80c2b')\"\n",
              "            title=\"Convert this dataframe to an interactive table.\"\n",
              "            style=\"display:none;\">\n",
              "\n",
              "  <svg xmlns=\"http://www.w3.org/2000/svg\" height=\"24px\" viewBox=\"0 -960 960 960\">\n",
              "    <path d=\"M120-120v-720h720v720H120Zm60-500h600v-160H180v160Zm220 220h160v-160H400v160Zm0 220h160v-160H400v160ZM180-400h160v-160H180v160Zm440 0h160v-160H620v160ZM180-180h160v-160H180v160Zm440 0h160v-160H620v160Z\"/>\n",
              "  </svg>\n",
              "    </button>\n",
              "\n",
              "  <style>\n",
              "    .colab-df-container {\n",
              "      display:flex;\n",
              "      gap: 12px;\n",
              "    }\n",
              "\n",
              "    .colab-df-convert {\n",
              "      background-color: #E8F0FE;\n",
              "      border: none;\n",
              "      border-radius: 50%;\n",
              "      cursor: pointer;\n",
              "      display: none;\n",
              "      fill: #1967D2;\n",
              "      height: 32px;\n",
              "      padding: 0 0 0 0;\n",
              "      width: 32px;\n",
              "    }\n",
              "\n",
              "    .colab-df-convert:hover {\n",
              "      background-color: #E2EBFA;\n",
              "      box-shadow: 0px 1px 2px rgba(60, 64, 67, 0.3), 0px 1px 3px 1px rgba(60, 64, 67, 0.15);\n",
              "      fill: #174EA6;\n",
              "    }\n",
              "\n",
              "    .colab-df-buttons div {\n",
              "      margin-bottom: 4px;\n",
              "    }\n",
              "\n",
              "    [theme=dark] .colab-df-convert {\n",
              "      background-color: #3B4455;\n",
              "      fill: #D2E3FC;\n",
              "    }\n",
              "\n",
              "    [theme=dark] .colab-df-convert:hover {\n",
              "      background-color: #434B5C;\n",
              "      box-shadow: 0px 1px 3px 1px rgba(0, 0, 0, 0.15);\n",
              "      filter: drop-shadow(0px 1px 2px rgba(0, 0, 0, 0.3));\n",
              "      fill: #FFFFFF;\n",
              "    }\n",
              "  </style>\n",
              "\n",
              "    <script>\n",
              "      const buttonEl =\n",
              "        document.querySelector('#df-e25b34da-e507-4306-aa1a-04a5ebc80c2b button.colab-df-convert');\n",
              "      buttonEl.style.display =\n",
              "        google.colab.kernel.accessAllowed ? 'block' : 'none';\n",
              "\n",
              "      async function convertToInteractive(key) {\n",
              "        const element = document.querySelector('#df-e25b34da-e507-4306-aa1a-04a5ebc80c2b');\n",
              "        const dataTable =\n",
              "          await google.colab.kernel.invokeFunction('convertToInteractive',\n",
              "                                                    [key], {});\n",
              "        if (!dataTable) return;\n",
              "\n",
              "        const docLinkHtml = 'Like what you see? Visit the ' +\n",
              "          '<a target=\"_blank\" href=https://colab.research.google.com/notebooks/data_table.ipynb>data table notebook</a>'\n",
              "          + ' to learn more about interactive tables.';\n",
              "        element.innerHTML = '';\n",
              "        dataTable['output_type'] = 'display_data';\n",
              "        await google.colab.output.renderOutput(dataTable, element);\n",
              "        const docLink = document.createElement('div');\n",
              "        docLink.innerHTML = docLinkHtml;\n",
              "        element.appendChild(docLink);\n",
              "      }\n",
              "    </script>\n",
              "  </div>\n",
              "\n",
              "\n",
              "    <div id=\"df-70b33f9e-627a-48f2-a009-3e339a4df46e\">\n",
              "      <button class=\"colab-df-quickchart\" onclick=\"quickchart('df-70b33f9e-627a-48f2-a009-3e339a4df46e')\"\n",
              "                title=\"Suggest charts\"\n",
              "                style=\"display:none;\">\n",
              "\n",
              "<svg xmlns=\"http://www.w3.org/2000/svg\" height=\"24px\"viewBox=\"0 0 24 24\"\n",
              "     width=\"24px\">\n",
              "    <g>\n",
              "        <path d=\"M19 3H5c-1.1 0-2 .9-2 2v14c0 1.1.9 2 2 2h14c1.1 0 2-.9 2-2V5c0-1.1-.9-2-2-2zM9 17H7v-7h2v7zm4 0h-2V7h2v10zm4 0h-2v-4h2v4z\"/>\n",
              "    </g>\n",
              "</svg>\n",
              "      </button>\n",
              "\n",
              "<style>\n",
              "  .colab-df-quickchart {\n",
              "      --bg-color: #E8F0FE;\n",
              "      --fill-color: #1967D2;\n",
              "      --hover-bg-color: #E2EBFA;\n",
              "      --hover-fill-color: #174EA6;\n",
              "      --disabled-fill-color: #AAA;\n",
              "      --disabled-bg-color: #DDD;\n",
              "  }\n",
              "\n",
              "  [theme=dark] .colab-df-quickchart {\n",
              "      --bg-color: #3B4455;\n",
              "      --fill-color: #D2E3FC;\n",
              "      --hover-bg-color: #434B5C;\n",
              "      --hover-fill-color: #FFFFFF;\n",
              "      --disabled-bg-color: #3B4455;\n",
              "      --disabled-fill-color: #666;\n",
              "  }\n",
              "\n",
              "  .colab-df-quickchart {\n",
              "    background-color: var(--bg-color);\n",
              "    border: none;\n",
              "    border-radius: 50%;\n",
              "    cursor: pointer;\n",
              "    display: none;\n",
              "    fill: var(--fill-color);\n",
              "    height: 32px;\n",
              "    padding: 0;\n",
              "    width: 32px;\n",
              "  }\n",
              "\n",
              "  .colab-df-quickchart:hover {\n",
              "    background-color: var(--hover-bg-color);\n",
              "    box-shadow: 0 1px 2px rgba(60, 64, 67, 0.3), 0 1px 3px 1px rgba(60, 64, 67, 0.15);\n",
              "    fill: var(--button-hover-fill-color);\n",
              "  }\n",
              "\n",
              "  .colab-df-quickchart-complete:disabled,\n",
              "  .colab-df-quickchart-complete:disabled:hover {\n",
              "    background-color: var(--disabled-bg-color);\n",
              "    fill: var(--disabled-fill-color);\n",
              "    box-shadow: none;\n",
              "  }\n",
              "\n",
              "  .colab-df-spinner {\n",
              "    border: 2px solid var(--fill-color);\n",
              "    border-color: transparent;\n",
              "    border-bottom-color: var(--fill-color);\n",
              "    animation:\n",
              "      spin 1s steps(1) infinite;\n",
              "  }\n",
              "\n",
              "  @keyframes spin {\n",
              "    0% {\n",
              "      border-color: transparent;\n",
              "      border-bottom-color: var(--fill-color);\n",
              "      border-left-color: var(--fill-color);\n",
              "    }\n",
              "    20% {\n",
              "      border-color: transparent;\n",
              "      border-left-color: var(--fill-color);\n",
              "      border-top-color: var(--fill-color);\n",
              "    }\n",
              "    30% {\n",
              "      border-color: transparent;\n",
              "      border-left-color: var(--fill-color);\n",
              "      border-top-color: var(--fill-color);\n",
              "      border-right-color: var(--fill-color);\n",
              "    }\n",
              "    40% {\n",
              "      border-color: transparent;\n",
              "      border-right-color: var(--fill-color);\n",
              "      border-top-color: var(--fill-color);\n",
              "    }\n",
              "    60% {\n",
              "      border-color: transparent;\n",
              "      border-right-color: var(--fill-color);\n",
              "    }\n",
              "    80% {\n",
              "      border-color: transparent;\n",
              "      border-right-color: var(--fill-color);\n",
              "      border-bottom-color: var(--fill-color);\n",
              "    }\n",
              "    90% {\n",
              "      border-color: transparent;\n",
              "      border-bottom-color: var(--fill-color);\n",
              "    }\n",
              "  }\n",
              "</style>\n",
              "\n",
              "      <script>\n",
              "        async function quickchart(key) {\n",
              "          const quickchartButtonEl =\n",
              "            document.querySelector('#' + key + ' button');\n",
              "          quickchartButtonEl.disabled = true;  // To prevent multiple clicks.\n",
              "          quickchartButtonEl.classList.add('colab-df-spinner');\n",
              "          try {\n",
              "            const charts = await google.colab.kernel.invokeFunction(\n",
              "                'suggestCharts', [key], {});\n",
              "          } catch (error) {\n",
              "            console.error('Error during call to suggestCharts:', error);\n",
              "          }\n",
              "          quickchartButtonEl.classList.remove('colab-df-spinner');\n",
              "          quickchartButtonEl.classList.add('colab-df-quickchart-complete');\n",
              "        }\n",
              "        (() => {\n",
              "          let quickchartButtonEl =\n",
              "            document.querySelector('#df-70b33f9e-627a-48f2-a009-3e339a4df46e button');\n",
              "          quickchartButtonEl.style.display =\n",
              "            google.colab.kernel.accessAllowed ? 'block' : 'none';\n",
              "        })();\n",
              "      </script>\n",
              "    </div>\n",
              "\n",
              "    </div>\n",
              "  </div>\n"
            ],
            "application/vnd.google.colaboratory.intrinsic+json": {
              "type": "dataframe",
              "variable_name": "tienda1",
              "summary": "{\n  \"name\": \"tienda1\",\n  \"rows\": 2359,\n  \"fields\": [\n    {\n      \"column\": \"Producto\",\n      \"properties\": {\n        \"dtype\": \"category\",\n        \"num_unique_values\": 51,\n        \"samples\": [\n          \"Guitarra ac\\u00fastica\",\n          \"Bal\\u00f3n de baloncesto\",\n          \"Smartwatch\"\n        ],\n        \"semantic_type\": \"\",\n        \"description\": \"\"\n      }\n    },\n    {\n      \"column\": \"Categor\\u00eda del Producto\",\n      \"properties\": {\n        \"dtype\": \"category\",\n        \"num_unique_values\": 8,\n        \"samples\": [\n          \"Muebles\",\n          \"Deportes y diversi\\u00f3n\",\n          \"Electr\\u00f3nicos\"\n        ],\n        \"semantic_type\": \"\",\n        \"description\": \"\"\n      }\n    },\n    {\n      \"column\": \"Precio\",\n      \"properties\": {\n        \"dtype\": \"number\",\n        \"std\": 614686.7653873172,\n        \"min\": 7600.0,\n        \"max\": 2977000.0,\n        \"num_unique_values\": 1937,\n        \"samples\": [\n          2499400.0,\n          14800.0,\n          80500.0\n        ],\n        \"semantic_type\": \"\",\n        \"description\": \"\"\n      }\n    },\n    {\n      \"column\": \"Costo de env\\u00edo\",\n      \"properties\": {\n        \"dtype\": \"number\",\n        \"std\": 32860.0017825605,\n        \"min\": 0.0,\n        \"max\": 160800.0,\n        \"num_unique_values\": 753,\n        \"samples\": [\n          117800.0,\n          54700.0,\n          45600.0\n        ],\n        \"semantic_type\": \"\",\n        \"description\": \"\"\n      }\n    },\n    {\n      \"column\": \"Fecha de Compra\",\n      \"properties\": {\n        \"dtype\": \"object\",\n        \"num_unique_values\": 1018,\n        \"samples\": [\n          \"15/09/2022\",\n          \"03/06/2020\",\n          \"06/11/2021\"\n        ],\n        \"semantic_type\": \"\",\n        \"description\": \"\"\n      }\n    },\n    {\n      \"column\": \"Vendedor\",\n      \"properties\": {\n        \"dtype\": \"category\",\n        \"num_unique_values\": 14,\n        \"samples\": [\n          \"Juliana Costa\",\n          \"Mariana Herrera\",\n          \"Pedro Gomez\"\n        ],\n        \"semantic_type\": \"\",\n        \"description\": \"\"\n      }\n    },\n    {\n      \"column\": \"Lugar de Compra\",\n      \"properties\": {\n        \"dtype\": \"category\",\n        \"num_unique_values\": 19,\n        \"samples\": [\n          \"Bogot\\u00e1\",\n          \"Pereira\",\n          \"Neiva\"\n        ],\n        \"semantic_type\": \"\",\n        \"description\": \"\"\n      }\n    },\n    {\n      \"column\": \"Calificaci\\u00f3n\",\n      \"properties\": {\n        \"dtype\": \"number\",\n        \"std\": 1,\n        \"min\": 1,\n        \"max\": 5,\n        \"num_unique_values\": 5,\n        \"samples\": [\n          1,\n          2,\n          5\n        ],\n        \"semantic_type\": \"\",\n        \"description\": \"\"\n      }\n    },\n    {\n      \"column\": \"M\\u00e9todo de pago\",\n      \"properties\": {\n        \"dtype\": \"category\",\n        \"num_unique_values\": 4,\n        \"samples\": [\n          \"Nequi\",\n          \"Tarjeta de d\\u00e9bito\",\n          \"Tarjeta de cr\\u00e9dito\"\n        ],\n        \"semantic_type\": \"\",\n        \"description\": \"\"\n      }\n    },\n    {\n      \"column\": \"Cantidad de cuotas\",\n      \"properties\": {\n        \"dtype\": \"number\",\n        \"std\": 2,\n        \"min\": 1,\n        \"max\": 24,\n        \"num_unique_values\": 15,\n        \"samples\": [\n          7,\n          14,\n          8\n        ],\n        \"semantic_type\": \"\",\n        \"description\": \"\"\n      }\n    },\n    {\n      \"column\": \"lat\",\n      \"properties\": {\n        \"dtype\": \"number\",\n        \"std\": 2.2874452492678627,\n        \"min\": -4.21528,\n        \"max\": 11.54444,\n        \"num_unique_values\": 19,\n        \"samples\": [\n          4.60971,\n          4.81333,\n          2.9273\n        ],\n        \"semantic_type\": \"\",\n        \"description\": \"\"\n      }\n    },\n    {\n      \"column\": \"lon\",\n      \"properties\": {\n        \"dtype\": \"number\",\n        \"std\": 1.2178272727088486,\n        \"min\": -77.28111,\n        \"max\": -67.9239,\n        \"num_unique_values\": 19,\n        \"samples\": [\n          -74.08175,\n          -75.69611,\n          -75.28189\n        ],\n        \"semantic_type\": \"\",\n        \"description\": \"\"\n      }\n    }\n  ]\n}"
            }
          },
          "metadata": {},
          "execution_count": 2
        }
      ],
      "source": [
        "import pandas as pd\n",
        "\n",
        "url1 = \"https://raw.githubusercontent.com/alura-es-cursos/challenge1-data-science-latam/refs/heads/main/base-de-datos-challenge1-latam/tienda_1%20.csv\"\n",
        "url2 = \"https://raw.githubusercontent.com/alura-es-cursos/challenge1-data-science-latam/refs/heads/main/base-de-datos-challenge1-latam/tienda_2.csv\"\n",
        "url3 = \"https://raw.githubusercontent.com/alura-es-cursos/challenge1-data-science-latam/refs/heads/main/base-de-datos-challenge1-latam/tienda_3.csv\"\n",
        "url4 = \"https://raw.githubusercontent.com/alura-es-cursos/challenge1-data-science-latam/refs/heads/main/base-de-datos-challenge1-latam/tienda_4.csv\"\n",
        "\n",
        "tienda1 = pd.read_csv(url1)\n",
        "tienda2 = pd.read_csv(url2)\n",
        "tienda3 = pd.read_csv(url3)\n",
        "tienda4 = pd.read_csv(url4)\n",
        "\n",
        "tienda1.head()"
      ]
    },
    {
      "cell_type": "markdown",
      "source": [
        "#1. Análisis de facturación\n",
        "\n"
      ],
      "metadata": {
        "id": "X62IW3KFUIYm"
      }
    },
    {
      "cell_type": "markdown",
      "source": [
        "En este primer análisis, debes calcular el ingreso total de cada tienda. Sumando los valores de la columna Precio de cada conjunto de datos de la tienda para estimar los ingresos"
      ],
      "metadata": {
        "id": "_WPUEt0k9fVk"
      }
    },
    {
      "cell_type": "code",
      "source": [
        "facturacion_tienda1 = tienda1['Precio'].astype(float).sum()\n",
        "facturacion_tienda2 = tienda2['Precio'].astype(float).sum()\n",
        "facturacion_tienda3 = tienda3['Precio'].astype(float).sum()\n",
        "facturacion_tienda4 = tienda4['Precio'].astype(float).sum()\n",
        "\n",
        "print(f\"Facturación Tienda 1: ${facturacion_tienda1:.2f}\")\n",
        "print(f\"Facturación Tienda 2: ${facturacion_tienda2:.2f}\")\n",
        "print(f\"Facturación Tienda 3: ${facturacion_tienda3:.2f}\")\n",
        "print(f\"Facturación Tienda 4: ${facturacion_tienda4:.2f}\")\n",
        "\n",
        "facturacion_total = facturacion_tienda1 + facturacion_tienda2 + facturacion_tienda3 + facturacion_tienda4\n",
        "print(f\"\\nFacturación total de todas las tiendas: ${facturacion_total:.2f}\")\n"
      ],
      "metadata": {
        "id": "xykobSftV64I",
        "colab": {
          "base_uri": "https://localhost:8080/"
        },
        "outputId": "25aaa2b3-713d-4f80-fd50-cc295b6d27cf"
      },
      "execution_count": null,
      "outputs": [
        {
          "output_type": "stream",
          "name": "stdout",
          "text": [
            "Facturación Tienda 1: $1150880400.00\n",
            "Facturación Tienda 2: $1116343500.00\n",
            "Facturación Tienda 3: $1098019600.00\n",
            "Facturación Tienda 4: $1038375700.00\n",
            "\n",
            "Facturación total de todas las tiendas: $4403619200.00\n"
          ]
        }
      ]
    },
    {
      "cell_type": "markdown",
      "source": [
        "# 2. Ventas por categoría"
      ],
      "metadata": {
        "id": "2V_vcAPzWZmR"
      }
    },
    {
      "cell_type": "markdown",
      "source": [
        "En este paso debes calcular la cantidad de productos vendidos por categoría en cada tienda. La idea es agrupar los datos por categoría y contar el número de ventas de cada tipo, mostrando las categorías más populares de cada tienda."
      ],
      "metadata": {
        "id": "FtSJWAI19nno"
      }
    },
    {
      "cell_type": "code",
      "source": [
        "def ventas_por_categoria(tienda, nombre_tienda):\n",
        "\tventas = tienda['Categoría del Producto'].tolist()\n",
        "\tventas_set = set(ventas)\n",
        "\tdictio = {categoria: ventas.count(categoria) for categoria in ventas_set}\n",
        "\tdictio_ordenado = dict(sorted(dictio.items(), key=lambda item: item[1], reverse=True))\n",
        "\n",
        "\tprint(f\"Las ventas por categoría en la {nombre_tienda} son:\")\n",
        "\tfor categoria,cantidad in dictio_ordenado.items():\n",
        " \t\tprint(f\"  {categoria}: {cantidad} unidades\")\n",
        "\n",
        "\ttotal_categorias = sum(dictio.values())\n",
        "\tprint(f\"Ventas totales en {nombre_tienda}: {total_categorias} unidades\")\n",
        "\n",
        "\n",
        "ventas_por_categoria(tienda1, \"Tienda 1\")\n",
        "print()\n",
        "ventas_por_categoria(tienda2, \"Tienda 2\")\n",
        "print()\n",
        "ventas_por_categoria(tienda3, \"Tienda 3\")\n",
        "print()\n",
        "ventas_por_categoria(tienda4, \"Tienda 4\")"
      ],
      "metadata": {
        "id": "A34YupIuYhfF",
        "colab": {
          "base_uri": "https://localhost:8080/"
        },
        "outputId": "03d46d12-6a09-44c9-e763-4cf2861563c8"
      },
      "execution_count": null,
      "outputs": [
        {
          "output_type": "stream",
          "name": "stdout",
          "text": [
            "Las ventas por categoría en la Tienda 1 son:\n",
            "  Muebles: 465 unidades\n",
            "  Electrónicos: 448 unidades\n",
            "  Juguetes: 324 unidades\n",
            "  Electrodomésticos: 312 unidades\n",
            "  Deportes y diversión: 284 unidades\n",
            "  Instrumentos musicales: 182 unidades\n",
            "  Libros: 173 unidades\n",
            "  Artículos para el hogar: 171 unidades\n",
            "Ventas totales en Tienda 1: 2359 unidades\n",
            "\n",
            "Las ventas por categoría en la Tienda 2 son:\n",
            "  Muebles: 442 unidades\n",
            "  Electrónicos: 422 unidades\n",
            "  Juguetes: 313 unidades\n",
            "  Electrodomésticos: 305 unidades\n",
            "  Deportes y diversión: 275 unidades\n",
            "  Instrumentos musicales: 224 unidades\n",
            "  Libros: 197 unidades\n",
            "  Artículos para el hogar: 181 unidades\n",
            "Ventas totales en Tienda 2: 2359 unidades\n",
            "\n",
            "Las ventas por categoría en la Tienda 3 son:\n",
            "  Muebles: 499 unidades\n",
            "  Electrónicos: 451 unidades\n",
            "  Juguetes: 315 unidades\n",
            "  Electrodomésticos: 278 unidades\n",
            "  Deportes y diversión: 277 unidades\n",
            "  Libros: 185 unidades\n",
            "  Instrumentos musicales: 177 unidades\n",
            "  Artículos para el hogar: 177 unidades\n",
            "Ventas totales en Tienda 3: 2359 unidades\n",
            "\n",
            "Las ventas por categoría en la Tienda 4 son:\n",
            "  Muebles: 480 unidades\n",
            "  Electrónicos: 451 unidades\n",
            "  Juguetes: 338 unidades\n",
            "  Deportes y diversión: 277 unidades\n",
            "  Electrodomésticos: 254 unidades\n",
            "  Artículos para el hogar: 201 unidades\n",
            "  Libros: 187 unidades\n",
            "  Instrumentos musicales: 170 unidades\n",
            "Ventas totales en Tienda 4: 2358 unidades\n"
          ]
        }
      ]
    },
    {
      "cell_type": "markdown",
      "source": [
        "# 3. Calificación promedio de la tienda\n"
      ],
      "metadata": {
        "id": "Rq6tU_xSY3jk"
      }
    },
    {
      "cell_type": "markdown",
      "source": [
        "En este paso, debes calcular las calificaciones promedio de los clientes para cada tienda. El objetivo es conocer la satisfacción del cliente con los productos vendidos."
      ],
      "metadata": {
        "id": "OG74zqy_9vfG"
      }
    },
    {
      "cell_type": "code",
      "source": [
        "def calificacion_promedio(tienda, nombre_tienda):\n",
        "    promedio = tienda['Calificación'].mean()\n",
        "    print(f\"Calificación promedio en Tienda {nombre_tienda}: {promedio:.2f}\")\n",
        "\n",
        "calificacion_promedio(tienda1, 1)\n",
        "calificacion_promedio(tienda2, 2)\n",
        "calificacion_promedio(tienda3, 3)\n",
        "calificacion_promedio(tienda4, 4)\n"
      ],
      "metadata": {
        "id": "bh3jjjJwY5MU",
        "colab": {
          "base_uri": "https://localhost:8080/"
        },
        "outputId": "5b4892f1-fd42-418e-cd54-82b0d2e2d33d"
      },
      "execution_count": null,
      "outputs": [
        {
          "output_type": "stream",
          "name": "stdout",
          "text": [
            "Calificación promedio en Tienda 1: 3.98\n",
            "Calificación promedio en Tienda 2: 4.04\n",
            "Calificación promedio en Tienda 3: 4.05\n",
            "Calificación promedio en Tienda 4: 4.00\n"
          ]
        }
      ]
    },
    {
      "cell_type": "markdown",
      "source": [
        "# 4. Productos más y menos vendidos"
      ],
      "metadata": {
        "id": "DmNp1KPBZCm-"
      }
    },
    {
      "cell_type": "markdown",
      "source": [
        "En este paso, debes identificar qué productos fueron los más vendidos y los menos vendidos en cada tienda. Visualiza los resultados para que quede claro qué productos destacaron en ventas en cada tienda."
      ],
      "metadata": {
        "id": "YKRb4mL090De"
      }
    },
    {
      "cell_type": "code",
      "source": [
        "def ventas_por_producto(tienda, nombre_tienda):\n",
        "\tventas = tienda['Producto'].tolist()\n",
        "\tventas_set = set(ventas)\n",
        "\tdictio = {categoria: ventas.count(categoria) for categoria in ventas_set}\n",
        "\tdictio_ordenado = dict(sorted(dictio.items(), key=lambda item: item[1], reverse=True))\n",
        "\n",
        "\tprint(f\"Los 5 productos mas vendidos en la {nombre_tienda} son:\")\n",
        "\tfor categoria,cantidad in list(dictio_ordenado.items())[:5]:\n",
        " \t\tprint(f\"  {categoria}: {cantidad} unidades\")\n",
        "\n",
        "\tprint(f\"Los 5 productos menos vendidos en la {nombre_tienda} son:\")\n",
        "\tfor categoria,cantidad in list(dictio_ordenado.items())[-5:]:\n",
        " \t\tprint(f\"  {categoria}: {cantidad} unidades\")\n",
        "\n",
        "\n",
        "ventas_por_producto(tienda1, \"Tienda 1\")\n",
        "print()\n",
        "ventas_por_producto(tienda2, \"Tienda 2\")\n",
        "print()\n",
        "ventas_por_producto(tienda3, \"Tienda 3\")\n",
        "print()\n",
        "ventas_por_producto(tienda4, \"Tienda 4\")"
      ],
      "metadata": {
        "id": "qoyjqijQZHfF",
        "colab": {
          "base_uri": "https://localhost:8080/"
        },
        "outputId": "9d990a85-b427-4f2f-f909-1ed55ec4ccff"
      },
      "execution_count": null,
      "outputs": [
        {
          "output_type": "stream",
          "name": "stdout",
          "text": [
            "Los 5 productos mas vendidos en la Tienda 1 son:\n",
            "  Microondas: 60 unidades\n",
            "  Armario: 60 unidades\n",
            "  TV LED UHD 4K: 60 unidades\n",
            "  Secadora de ropa: 58 unidades\n",
            "  Bloques de construcción: 56 unidades\n",
            "Los 5 productos menos vendidos en la Tienda 1 son:\n",
            "  Ciencia de datos con Python: 39 unidades\n",
            "  Pandereta: 36 unidades\n",
            "  Olla de presión: 35 unidades\n",
            "  Celular ABXY: 33 unidades\n",
            "  Auriculares con micrófono: 33 unidades\n",
            "\n",
            "Los 5 productos mas vendidos en la Tienda 2 son:\n",
            "  Iniciando en programación: 65 unidades\n",
            "  Microondas: 62 unidades\n",
            "  Batería: 61 unidades\n",
            "  Guitarra acústica: 58 unidades\n",
            "  Pandereta: 58 unidades\n",
            "Los 5 productos menos vendidos en la Tienda 2 son:\n",
            "  Auriculares: 37 unidades\n",
            "  Sillón: 35 unidades\n",
            "  Mesa de comedor: 34 unidades\n",
            "  Impresora: 34 unidades\n",
            "  Juego de mesa: 32 unidades\n",
            "\n",
            "Los 5 productos mas vendidos en la Tienda 3 son:\n",
            "  Kit de bancas: 57 unidades\n",
            "  Mesa de comedor: 56 unidades\n",
            "  Cama king: 56 unidades\n",
            "  Mesa de noche: 55 unidades\n",
            "  Set de ollas: 55 unidades\n",
            "Los 5 productos menos vendidos en la Tienda 3 son:\n",
            "  Guitarra eléctrica: 38 unidades\n",
            "  Set de vasos: 36 unidades\n",
            "  Mochila: 36 unidades\n",
            "  Microondas: 36 unidades\n",
            "  Bloques de construcción: 35 unidades\n",
            "\n",
            "Los 5 productos mas vendidos en la Tienda 4 son:\n",
            "  Cama box: 62 unidades\n",
            "  Cubertería: 59 unidades\n",
            "  Cama king: 56 unidades\n",
            "  Dashboards con Power BI: 56 unidades\n",
            "  Mesa de noche: 55 unidades\n",
            "Los 5 productos menos vendidos en la Tienda 4 son:\n",
            "  Lavadora de ropa: 38 unidades\n",
            "  Ciencia de datos con Python: 38 unidades\n",
            "  Guitarra acústica: 37 unidades\n",
            "  Armario: 34 unidades\n",
            "  Guitarra eléctrica: 33 unidades\n"
          ]
        }
      ]
    },
    {
      "cell_type": "markdown",
      "source": [
        "# 5. Envío promedio por tienda"
      ],
      "metadata": {
        "id": "Fl0cGi3bZKqU"
      }
    },
    {
      "cell_type": "markdown",
      "source": [
        "En este paso, debes calcular el costo de envío promedio para cada tienda. El objetivo es comprender cuánto se gasta, en promedio, en el envío de cada tienda."
      ],
      "metadata": {
        "id": "onxbILox9743"
      }
    },
    {
      "cell_type": "code",
      "source": [
        "def costo_envio_promedio(tienda, nombre_tienda):\n",
        "    promedio = tienda['Costo de envío'].mean()\n",
        "    print(f\"Costo de envío promedio en Tienda {nombre_tienda}: {promedio:.2f}\")\n",
        "\n",
        "costo_envio_promedio(tienda1, 1)\n",
        "costo_envio_promedio(tienda2, 2)\n",
        "costo_envio_promedio(tienda3, 3)\n",
        "costo_envio_promedio(tienda4, 4)"
      ],
      "metadata": {
        "id": "S2JeaCykZNy9",
        "colab": {
          "base_uri": "https://localhost:8080/"
        },
        "outputId": "5cabb545-7452-407d-80cb-0e788b3b8dac"
      },
      "execution_count": null,
      "outputs": [
        {
          "output_type": "stream",
          "name": "stdout",
          "text": [
            "Costo de envío promedio en Tienda 1: 26018.61\n",
            "Costo de envío promedio en Tienda 2: 25216.24\n",
            "Costo de envío promedio en Tienda 3: 24805.68\n",
            "Costo de envío promedio en Tienda 4: 23459.46\n"
          ]
        }
      ]
    },
    {
      "cell_type": "markdown",
      "source": [
        "# **6.Visualización**"
      ],
      "metadata": {
        "id": "h-_rpx9cDmGX"
      }
    },
    {
      "cell_type": "markdown",
      "source": [
        "De acuerdo con funciones que haya creado, le recomendamos que genere al menos tres gráficos. Estos gráficos deben ser de diferentes tipos (como barras, líneas, dispersión, entre otros) para presentar una visión completa de los datos.\n",
        "\n",
        "Recuerde que los gráficos deben complementar el análisis realizado, resaltando los puntos más relevantes, como los ingresos de la tienda, la distribución de categorías de productos, las opiniones de los clientes, los productos más vendidos y/o los costes de envío.\n"
      ],
      "metadata": {
        "id": "bDtk1K3pDzik"
      }
    },
    {
      "cell_type": "code",
      "source": [
        "import matplotlib.pyplot as plt\n",
        "\n",
        "ingresos_totales = [facturacion_tienda1, facturacion_tienda2, facturacion_tienda3, facturacion_tienda4]\n",
        "etiquetas = ['Tienda 1', 'Tienda 2', 'Tienda 3', 'Tienda 4']\n",
        "\n",
        "#Pie\n",
        "plt.figure(figsize=(7,7))\n",
        "plt.pie(ingresos_totales, labels=etiquetas, autopct='%1.1f%%', startangle=90)\n",
        "plt.title('Participación de Cada Tienda en el Total de Ingresos')\n",
        "plt.show()\n"
      ],
      "metadata": {
        "id": "Mhne4OfpD4JA",
        "colab": {
          "base_uri": "https://localhost:8080/",
          "height": 598
        },
        "outputId": "ea8cf88c-2406-4a7e-fc8f-88bfeee27b9e"
      },
      "execution_count": null,
      "outputs": [
        {
          "output_type": "display_data",
          "data": {
            "text/plain": [
              "<Figure size 700x700 with 1 Axes>"
            ],
            "image/png": "[encoded data removed]"
          },
          "metadata": {}
        }
      ]
    },
    {
      "cell_type": "code",
      "source": [
        "def costo_promedio(tienda):\n",
        "  promedio = tienda['Costo de envío'].mean()\n",
        "  return promedio\n",
        "\n",
        "costo_envio = [costo_promedio(tienda1), costo_promedio(tienda2), costo_promedio(tienda3), costo_promedio(tienda4)]\n",
        "tiendas = ['Tienda 1', 'Tienda 2', 'Tienda 3', 'Tienda 4']\n",
        "\n",
        "plt.figure(figsize=(8,5))\n",
        "plt.bar(tiendas,costo_envio)\n",
        "plt.title('Costo de Envío promedio por Tienda')\n",
        "plt.ylabel('Costo de envío promedio')\n",
        "plt.xlabel('Tienda')\n",
        "plt.grid(axis='y')\n",
        "plt.tight_layout()\n",
        "plt.show()\n",
        "\n"
      ],
      "metadata": {
        "colab": {
          "base_uri": "https://localhost:8080/",
          "height": 507
        },
        "id": "VUIxTuxVBsVH",
        "outputId": "a810cf8c-4f52-48cd-c9ac-6386767136c4"
      },
      "execution_count": null,
      "outputs": [
        {
          "output_type": "display_data",
          "data": {
            "text/plain": [
              "<Figure size 800x500 with 1 Axes>"
            ],
            "image/png": "[encoded data removed]"
          },
          "metadata": {}
        }
      ]
    },
    {
      "cell_type": "code",
      "source": [
        "def calificacion(tienda):\n",
        "    promedio = tienda['Calificación'].mean()\n",
        "    return promedio\n",
        "\n",
        "calificacion_tienda = [calificacion(tienda1), calificacion(tienda2), calificacion(tienda3), calificacion(tienda4)]\n",
        "\n",
        "plt.figure(figsize=(8,5))\n",
        "plt.barh(tiendas, calificacion_tienda, color = \"red\")\n",
        "plt.title('Calificación promedio de clientes por Tienda')\n",
        "plt.ylabel('Tienda')\n",
        "plt.xlabel('Calificación promedio')\n",
        "plt.grid(axis='x')\n",
        "plt.show()\n"
      ],
      "metadata": {
        "colab": {
          "base_uri": "https://localhost:8080/",
          "height": 488
        },
        "id": "Zg3-JnfGGst8",
        "outputId": "a9b59789-7bc3-4a8d-e75c-94f14c84250b"
      },
      "execution_count": null,
      "outputs": [
        {
          "output_type": "display_data",
          "data": {
            "text/plain": [
              "<Figure size 800x500 with 1 Axes>"
            ],
            "image/png": "[encoded data removed]"
          },
          "metadata": {}
        }
      ]
    },
    {
      "cell_type": "markdown",
      "source": [
        "# Calculos **Adicionales**"
      ],
      "metadata": {
        "id": "gJucbgO99NUc"
      }
    },
    {
      "cell_type": "code",
      "source": [
        "unidades_vendidas = [2359,2359,2359,2358]\n",
        "'''ingresos_totales = [facturacion_tienda1, facturacion_tienda2, facturacion_tienda3, facturacion_tienda4]\n",
        "  costo_envio = [costo_promedio(tienda1), costo_promedio(tienda2), costo_promedio(tienda3), costo_promedio(tienda4)]\n",
        "  etiquetas = ['Tienda 1', 'Tienda 2', 'Tienda 3', 'Tienda 4']'''\n",
        "\n",
        "def ganancia():\n",
        "  for i in range(len(unidades_vendidas)):\n",
        "    ganancia_tienda = ingresos_totales[i] - (costo_envio[i] * unidades_vendidas[i])\n",
        "    print(f'La ganancia de la {etiquetas[i]} es de $ {ganancia_tienda}')\n",
        "\n",
        "ganancia()\n"
      ],
      "metadata": {
        "id": "0tSdCie9ZQlt",
        "colab": {
          "base_uri": "https://localhost:8080/"
        },
        "outputId": "58646378-b90f-433b-b145-3dd01190769d"
      },
      "execution_count": null,
      "outputs": [
        {
          "output_type": "stream",
          "name": "stdout",
          "text": [
            "La ganancia de la Tienda 1 es de $ 1089502500.0\n",
            "La ganancia de la Tienda 2 es de $ 1056858400.0\n",
            "La ganancia de la Tienda 3 es de $ 1039503000.0\n",
            "La ganancia de la Tienda 4 es de $ 983058300.0\n"
          ]
        }
      ]
    },
    {
      "cell_type": "markdown",
      "source": [
        "# 7. **Informe Final**"
      ],
      "metadata": {
        "id": "cfu3vX7hOkDX"
      }
    },
    {
      "cell_type": "markdown",
      "source": [
        "Con base en los análisis realizados y los gráficos generados, debo concluir que la tienda que el Sr. Juan debe vender es la tienda 4.\n",
        "\n",
        "Mi recomendación se basa en que esa tienda es la que menor flujo de ingresos genera, y a pesar de tener el más bajo coste de envio promedio, la ganancia que genera es tambien la mas baja de las 4 tiendas en análisis.\n",
        "\n",
        "Además la tienda 4 es la que obtuvo menor calificación promedio por parte de los clientes, indicando que el nivel de satisfacción del cliente es el mas bajo de las 4.\n",
        "\n",
        "\n",
        "\n",
        "\n"
      ],
      "metadata": {
        "id": "yhWE43s_Oy_c"
      }
    }
  ]
}